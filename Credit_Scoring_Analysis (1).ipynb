{
 "cells": [
  {
   "cell_type": "code",
   "execution_count": 1,
   "id": "9ae2f4dc-df21-48e5-9970-8c312a1384c9",
   "metadata": {},
   "outputs": [],
   "source": [
    "#Importando a biblioteca Pandas\n",
    "import pandas as pd"
   ]
  },
  {
   "cell_type": "code",
   "execution_count": 2,
   "id": "45b4f1e7-bf14-4041-98f9-9af2d10a66cc",
   "metadata": {},
   "outputs": [],
   "source": [
    "#Carregando o arquivo(planilha):\n",
    "try:\n",
    "    df = pd.read_csv('credit_scoring_eng.csv')\n",
    "except: \n",
    "    df= pd.read_csv('/datasets/credit_scoring_eng.csv')"
   ]
  },
  {
   "cell_type": "code",
   "execution_count": 3,
   "id": "681d31d3-9f59-470d-a086-a9cfd79510cc",
   "metadata": {},
   "outputs": [
    {
     "name": "stdout",
     "output_type": "stream",
     "text": [
      "<class 'pandas.core.frame.DataFrame'>\n",
      "RangeIndex: 21525 entries, 0 to 21524\n",
      "Data columns (total 12 columns):\n",
      " #   Column            Non-Null Count  Dtype  \n",
      "---  ------            --------------  -----  \n",
      " 0   children          21525 non-null  int64  \n",
      " 1   days_employed     19351 non-null  float64\n",
      " 2   dob_years         21525 non-null  int64  \n",
      " 3   education         21525 non-null  object \n",
      " 4   education_id      21525 non-null  int64  \n",
      " 5   family_status     21525 non-null  object \n",
      " 6   family_status_id  21525 non-null  int64  \n",
      " 7   gender            21525 non-null  object \n",
      " 8   income_type       21525 non-null  object \n",
      " 9   debt              21525 non-null  int64  \n",
      " 10  total_income      19351 non-null  float64\n",
      " 11  purpose           21525 non-null  object \n",
      "dtypes: float64(2), int64(5), object(5)\n",
      "memory usage: 2.0+ MB\n"
     ]
    },
    {
     "data": {
      "text/html": [
       "<div>\n",
       "<style scoped>\n",
       "    .dataframe tbody tr th:only-of-type {\n",
       "        vertical-align: middle;\n",
       "    }\n",
       "\n",
       "    .dataframe tbody tr th {\n",
       "        vertical-align: top;\n",
       "    }\n",
       "\n",
       "    .dataframe thead th {\n",
       "        text-align: right;\n",
       "    }\n",
       "</style>\n",
       "<table border=\"1\" class=\"dataframe\">\n",
       "  <thead>\n",
       "    <tr style=\"text-align: right;\">\n",
       "      <th></th>\n",
       "      <th>children</th>\n",
       "      <th>days_employed</th>\n",
       "      <th>dob_years</th>\n",
       "      <th>education</th>\n",
       "      <th>education_id</th>\n",
       "      <th>family_status</th>\n",
       "      <th>family_status_id</th>\n",
       "      <th>gender</th>\n",
       "      <th>income_type</th>\n",
       "      <th>debt</th>\n",
       "      <th>total_income</th>\n",
       "      <th>purpose</th>\n",
       "    </tr>\n",
       "  </thead>\n",
       "  <tbody>\n",
       "    <tr>\n",
       "      <th>0</th>\n",
       "      <td>1</td>\n",
       "      <td>-8437.673028</td>\n",
       "      <td>42</td>\n",
       "      <td>bachelor's degree</td>\n",
       "      <td>0</td>\n",
       "      <td>married</td>\n",
       "      <td>0</td>\n",
       "      <td>F</td>\n",
       "      <td>employee</td>\n",
       "      <td>0</td>\n",
       "      <td>40620.102</td>\n",
       "      <td>purchase of the house</td>\n",
       "    </tr>\n",
       "    <tr>\n",
       "      <th>1</th>\n",
       "      <td>1</td>\n",
       "      <td>-4024.803754</td>\n",
       "      <td>36</td>\n",
       "      <td>secondary education</td>\n",
       "      <td>1</td>\n",
       "      <td>married</td>\n",
       "      <td>0</td>\n",
       "      <td>F</td>\n",
       "      <td>employee</td>\n",
       "      <td>0</td>\n",
       "      <td>17932.802</td>\n",
       "      <td>car purchase</td>\n",
       "    </tr>\n",
       "    <tr>\n",
       "      <th>2</th>\n",
       "      <td>0</td>\n",
       "      <td>-5623.422610</td>\n",
       "      <td>33</td>\n",
       "      <td>Secondary Education</td>\n",
       "      <td>1</td>\n",
       "      <td>married</td>\n",
       "      <td>0</td>\n",
       "      <td>M</td>\n",
       "      <td>employee</td>\n",
       "      <td>0</td>\n",
       "      <td>23341.752</td>\n",
       "      <td>purchase of the house</td>\n",
       "    </tr>\n",
       "    <tr>\n",
       "      <th>3</th>\n",
       "      <td>3</td>\n",
       "      <td>-4124.747207</td>\n",
       "      <td>32</td>\n",
       "      <td>secondary education</td>\n",
       "      <td>1</td>\n",
       "      <td>married</td>\n",
       "      <td>0</td>\n",
       "      <td>M</td>\n",
       "      <td>employee</td>\n",
       "      <td>0</td>\n",
       "      <td>42820.568</td>\n",
       "      <td>supplementary education</td>\n",
       "    </tr>\n",
       "    <tr>\n",
       "      <th>4</th>\n",
       "      <td>0</td>\n",
       "      <td>340266.072047</td>\n",
       "      <td>53</td>\n",
       "      <td>secondary education</td>\n",
       "      <td>1</td>\n",
       "      <td>civil partnership</td>\n",
       "      <td>1</td>\n",
       "      <td>F</td>\n",
       "      <td>retiree</td>\n",
       "      <td>0</td>\n",
       "      <td>25378.572</td>\n",
       "      <td>to have a wedding</td>\n",
       "    </tr>\n",
       "    <tr>\n",
       "      <th>5</th>\n",
       "      <td>0</td>\n",
       "      <td>-926.185831</td>\n",
       "      <td>27</td>\n",
       "      <td>bachelor's degree</td>\n",
       "      <td>0</td>\n",
       "      <td>civil partnership</td>\n",
       "      <td>1</td>\n",
       "      <td>M</td>\n",
       "      <td>business</td>\n",
       "      <td>0</td>\n",
       "      <td>40922.170</td>\n",
       "      <td>purchase of the house</td>\n",
       "    </tr>\n",
       "    <tr>\n",
       "      <th>6</th>\n",
       "      <td>0</td>\n",
       "      <td>-2879.202052</td>\n",
       "      <td>43</td>\n",
       "      <td>bachelor's degree</td>\n",
       "      <td>0</td>\n",
       "      <td>married</td>\n",
       "      <td>0</td>\n",
       "      <td>F</td>\n",
       "      <td>business</td>\n",
       "      <td>0</td>\n",
       "      <td>38484.156</td>\n",
       "      <td>housing transactions</td>\n",
       "    </tr>\n",
       "    <tr>\n",
       "      <th>7</th>\n",
       "      <td>0</td>\n",
       "      <td>-152.779569</td>\n",
       "      <td>50</td>\n",
       "      <td>SECONDARY EDUCATION</td>\n",
       "      <td>1</td>\n",
       "      <td>married</td>\n",
       "      <td>0</td>\n",
       "      <td>M</td>\n",
       "      <td>employee</td>\n",
       "      <td>0</td>\n",
       "      <td>21731.829</td>\n",
       "      <td>education</td>\n",
       "    </tr>\n",
       "    <tr>\n",
       "      <th>8</th>\n",
       "      <td>2</td>\n",
       "      <td>-6929.865299</td>\n",
       "      <td>35</td>\n",
       "      <td>BACHELOR'S DEGREE</td>\n",
       "      <td>0</td>\n",
       "      <td>civil partnership</td>\n",
       "      <td>1</td>\n",
       "      <td>F</td>\n",
       "      <td>employee</td>\n",
       "      <td>0</td>\n",
       "      <td>15337.093</td>\n",
       "      <td>having a wedding</td>\n",
       "    </tr>\n",
       "    <tr>\n",
       "      <th>9</th>\n",
       "      <td>0</td>\n",
       "      <td>-2188.756445</td>\n",
       "      <td>41</td>\n",
       "      <td>secondary education</td>\n",
       "      <td>1</td>\n",
       "      <td>married</td>\n",
       "      <td>0</td>\n",
       "      <td>M</td>\n",
       "      <td>employee</td>\n",
       "      <td>0</td>\n",
       "      <td>23108.150</td>\n",
       "      <td>purchase of the house for my family</td>\n",
       "    </tr>\n",
       "  </tbody>\n",
       "</table>\n",
       "</div>"
      ],
      "text/plain": [
       "   children  days_employed  dob_years            education  education_id  \\\n",
       "0         1   -8437.673028         42    bachelor's degree             0   \n",
       "1         1   -4024.803754         36  secondary education             1   \n",
       "2         0   -5623.422610         33  Secondary Education             1   \n",
       "3         3   -4124.747207         32  secondary education             1   \n",
       "4         0  340266.072047         53  secondary education             1   \n",
       "5         0    -926.185831         27    bachelor's degree             0   \n",
       "6         0   -2879.202052         43    bachelor's degree             0   \n",
       "7         0    -152.779569         50  SECONDARY EDUCATION             1   \n",
       "8         2   -6929.865299         35    BACHELOR'S DEGREE             0   \n",
       "9         0   -2188.756445         41  secondary education             1   \n",
       "\n",
       "       family_status  family_status_id gender income_type  debt  total_income  \\\n",
       "0            married                 0      F    employee     0     40620.102   \n",
       "1            married                 0      F    employee     0     17932.802   \n",
       "2            married                 0      M    employee     0     23341.752   \n",
       "3            married                 0      M    employee     0     42820.568   \n",
       "4  civil partnership                 1      F     retiree     0     25378.572   \n",
       "5  civil partnership                 1      M    business     0     40922.170   \n",
       "6            married                 0      F    business     0     38484.156   \n",
       "7            married                 0      M    employee     0     21731.829   \n",
       "8  civil partnership                 1      F    employee     0     15337.093   \n",
       "9            married                 0      M    employee     0     23108.150   \n",
       "\n",
       "                               purpose  \n",
       "0                purchase of the house  \n",
       "1                         car purchase  \n",
       "2                purchase of the house  \n",
       "3              supplementary education  \n",
       "4                    to have a wedding  \n",
       "5                purchase of the house  \n",
       "6                 housing transactions  \n",
       "7                            education  \n",
       "8                     having a wedding  \n",
       "9  purchase of the house for my family  "
      ]
     },
     "execution_count": 3,
     "metadata": {},
     "output_type": "execute_result"
    }
   ],
   "source": [
    "#Explorando o arquivo:\n",
    "df.info()\n",
    "df.head(10)"
   ]
  },
  {
   "cell_type": "code",
   "execution_count": 4,
   "id": "aca977b5-7c78-41e0-b8e7-d78337943a1f",
   "metadata": {},
   "outputs": [
    {
     "data": {
      "text/plain": [
       " 0     14149\n",
       " 1      4818\n",
       " 2      2055\n",
       " 3       330\n",
       " 20       76\n",
       "-1        47\n",
       " 4        41\n",
       " 5         9\n",
       "Name: children, dtype: int64"
      ]
     },
     "execution_count": 4,
     "metadata": {},
     "output_type": "execute_result"
    }
   ],
   "source": [
    "#Inspecionando colunas, começando pela coluna 'children':\n",
    "df['children'].value_counts()\n",
    "#Ninguém pode ter -1 filhos, vou substituir este valor por 0, pois não sabemos ao certo a quantidade correta de filhos."
   ]
  },
  {
   "cell_type": "code",
   "execution_count": 5,
   "id": "f5a1f6ec-6315-41ce-84d9-009736e0f9e5",
   "metadata": {},
   "outputs": [],
   "source": [
    "#Substituindo valores -1 por 0 na coluna 'children'\n",
    "df[df['children'] == -1] = 0  "
   ]
  },
  {
   "cell_type": "code",
   "execution_count": 6,
   "id": "2a810f5e-7744-4c38-8ea2-464f10072686",
   "metadata": {},
   "outputs": [],
   "source": [
    "#Vou substituir o número 'children' 20 também, pois é anômalo. Vou substituir pela mediana de 'children'.\n",
    "df_children_median = df['children'].median()"
   ]
  },
  {
   "cell_type": "code",
   "execution_count": 7,
   "id": "5af5fc36-5329-4afb-ae27-4a92253bdd78",
   "metadata": {},
   "outputs": [],
   "source": [
    "#Substituindo os valores 20 pela mediana na coluna 'children':\n",
    "df[df['children']==20] = df_children_median"
   ]
  },
  {
   "cell_type": "code",
   "execution_count": 8,
   "id": "40562cb8-dcc0-4f72-b007-8a5f7423a1dc",
   "metadata": {},
   "outputs": [
    {
     "data": {
      "text/plain": [
       "0    14272\n",
       "1     4818\n",
       "2     2055\n",
       "3      330\n",
       "4       41\n",
       "5        9\n",
       "Name: children, dtype: int64"
      ]
     },
     "execution_count": 8,
     "metadata": {},
     "output_type": "execute_result"
    }
   ],
   "source": [
    "#Verificando coluna 'children' novamente, está corrigido.\n",
    "df['children'].value_counts()"
   ]
  },
  {
   "cell_type": "code",
   "execution_count": 9,
   "id": "3b03cb53-1527-40f9-b1a6-eb868e23b384",
   "metadata": {},
   "outputs": [
    {
     "data": {
      "text/plain": [
       " 0.000000         123\n",
       "-8437.673028        1\n",
       "-1122.320892        1\n",
       " 356425.151366      1\n",
       "-3112.788664        1\n",
       "                 ... \n",
       " 353207.809226      1\n",
       "-1083.159959        1\n",
       " 390769.069031      1\n",
       " 341277.435955      1\n",
       "-1984.507589        1\n",
       "Name: days_employed, Length: 19241, dtype: int64"
      ]
     },
     "execution_count": 9,
     "metadata": {},
     "output_type": "execute_result"
    }
   ],
   "source": [
    "#Inspecionando coluna 'days_employed':\n",
    "df['days_employed'].value_counts()\n",
    "#Existem valores negativos. Vou transformá-los em positivo, pois a pessoa que os inseriu pode ter inserido incorretamente."
   ]
  },
  {
   "cell_type": "code",
   "execution_count": 10,
   "id": "c684cb92-d163-48c4-b059-13d5fe848192",
   "metadata": {},
   "outputs": [],
   "source": [
    "#Criando função para transformar números negativos em positivos:\n",
    "def numero_positivo(valor):\n",
    "    if valor <0:\n",
    "        valor = valor * -1\n",
    "    return valor\n",
    "#Utilizando função para transformar números negativos em positivos:\n",
    "df['days_employed'] = df['days_employed'].apply(numero_positivo)"
   ]
  },
  {
   "cell_type": "code",
   "execution_count": 11,
   "id": "9d7e97f0-5414-454a-b9e5-1265c2c539cd",
   "metadata": {},
   "outputs": [
    {
     "data": {
      "text/plain": [
       "0.000000         123\n",
       "8437.673028        1\n",
       "1122.320892        1\n",
       "356425.151366      1\n",
       "3112.788664        1\n",
       "                ... \n",
       "353207.809226      1\n",
       "1083.159959        1\n",
       "390769.069031      1\n",
       "341277.435955      1\n",
       "1984.507589        1\n",
       "Name: days_employed, Length: 19241, dtype: int64"
      ]
     },
     "execution_count": 11,
     "metadata": {},
     "output_type": "execute_result"
    }
   ],
   "source": [
    "#Verificando números da coluna 'days_employed'.\n",
    "df['days_employed'].value_counts()"
   ]
  },
  {
   "cell_type": "code",
   "execution_count": 12,
   "id": "cdf34172-d133-48b8-bc89-d15343152a0c",
   "metadata": {},
   "outputs": [
    {
     "data": {
      "text/plain": [
       "0     223\n",
       "19     14\n",
       "20     51\n",
       "21    110\n",
       "22    183\n",
       "23    252\n",
       "24    263\n",
       "25    356\n",
       "26    406\n",
       "27    490\n",
       "28    501\n",
       "29    543\n",
       "30    536\n",
       "31    556\n",
       "32    506\n",
       "33    577\n",
       "34    597\n",
       "35    614\n",
       "36    553\n",
       "37    531\n",
       "38    595\n",
       "39    572\n",
       "40    603\n",
       "41    603\n",
       "42    592\n",
       "43    510\n",
       "44    543\n",
       "45    494\n",
       "46    469\n",
       "47    480\n",
       "48    536\n",
       "49    505\n",
       "50    509\n",
       "51    446\n",
       "52    483\n",
       "53    457\n",
       "54    476\n",
       "55    441\n",
       "56    482\n",
       "57    457\n",
       "58    461\n",
       "59    441\n",
       "60    376\n",
       "61    353\n",
       "62    351\n",
       "63    268\n",
       "64    263\n",
       "65    194\n",
       "66    183\n",
       "67    167\n",
       "68     99\n",
       "69     83\n",
       "70     65\n",
       "71     58\n",
       "72     33\n",
       "73      8\n",
       "74      6\n",
       "75      1\n",
       "Name: dob_years, dtype: int64"
      ]
     },
     "execution_count": 12,
     "metadata": {},
     "output_type": "execute_result"
    }
   ],
   "source": [
    "#Inspecionando coluna 'dob_years':\n",
    "df['dob_years'].value_counts().sort_index(ascending=True)\n",
    "#Ninguém que tem empréstimo no banco é menor do que 18 anos supostamente, e zero anos seria um bebê. Dado provavelmente incorreto.\n",
    "#Vou substituir pela média de idade."
   ]
  },
  {
   "cell_type": "code",
   "execution_count": 13,
   "id": "f1a995a4-b53e-4cfc-8ac1-948b1337a3ee",
   "metadata": {},
   "outputs": [],
   "source": [
    "#Descobrindo a média de idade:\n",
    "dob_years_mean = df['dob_years'].mean()"
   ]
  },
  {
   "cell_type": "code",
   "execution_count": 14,
   "id": "2aea2f09-c58a-4c9e-9f7c-a09d6c1b6b33",
   "metadata": {},
   "outputs": [],
   "source": [
    "#Transformando valores iguais a zero em valores da média da coluna 'dob_years':\n",
    "df[df['dob_years'] == 0] = dob_years_mean"
   ]
  },
  {
   "cell_type": "code",
   "execution_count": 15,
   "id": "be90c792-cfae-4197-8157-ae7afc1129a4",
   "metadata": {},
   "outputs": [
    {
     "data": {
      "text/plain": [
       "35.000000    614\n",
       "40.000000    603\n",
       "41.000000    603\n",
       "34.000000    597\n",
       "38.000000    595\n",
       "42.000000    592\n",
       "33.000000    577\n",
       "39.000000    572\n",
       "31.000000    556\n",
       "36.000000    553\n",
       "44.000000    543\n",
       "29.000000    543\n",
       "30.000000    536\n",
       "48.000000    536\n",
       "37.000000    531\n",
       "43.000000    510\n",
       "50.000000    509\n",
       "32.000000    506\n",
       "49.000000    505\n",
       "28.000000    501\n",
       "45.000000    494\n",
       "27.000000    490\n",
       "52.000000    483\n",
       "56.000000    482\n",
       "47.000000    480\n",
       "54.000000    476\n",
       "46.000000    469\n",
       "58.000000    461\n",
       "57.000000    457\n",
       "53.000000    457\n",
       "51.000000    446\n",
       "59.000000    441\n",
       "55.000000    441\n",
       "26.000000    406\n",
       "60.000000    376\n",
       "25.000000    356\n",
       "61.000000    353\n",
       "62.000000    351\n",
       "63.000000    268\n",
       "64.000000    263\n",
       "24.000000    263\n",
       "23.000000    252\n",
       "43.052776    223\n",
       "65.000000    194\n",
       "22.000000    183\n",
       "66.000000    183\n",
       "67.000000    167\n",
       "21.000000    110\n",
       "68.000000     99\n",
       "69.000000     83\n",
       "70.000000     65\n",
       "71.000000     58\n",
       "20.000000     51\n",
       "72.000000     33\n",
       "19.000000     14\n",
       "73.000000      8\n",
       "74.000000      6\n",
       "75.000000      1\n",
       "Name: dob_years, dtype: int64"
      ]
     },
     "execution_count": 15,
     "metadata": {},
     "output_type": "execute_result"
    }
   ],
   "source": [
    "#Verificando se foi corrigido:\n",
    "df['dob_years'].value_counts()\n",
    "#Números ficaram em 'float', como se tivessem vírgula, vou alterar depois."
   ]
  },
  {
   "cell_type": "code",
   "execution_count": 16,
   "id": "fd95a92e-2394-4205-88f5-9d402f2e7e6b",
   "metadata": {},
   "outputs": [
    {
     "data": {
      "text/plain": [
       "secondary education    13609\n",
       "bachelor's degree       4666\n",
       "SECONDARY EDUCATION      764\n",
       "Secondary Education      700\n",
       "some college             663\n",
       "BACHELOR'S DEGREE        270\n",
       "Bachelor's Degree        266\n",
       "primary education        250\n",
       "43.052775842044134       223\n",
       "Some College              47\n",
       "SOME COLLEGE              29\n",
       "PRIMARY EDUCATION         17\n",
       "Primary Education         15\n",
       "graduate degree            4\n",
       "Graduate Degree            1\n",
       "GRADUATE DEGREE            1\n",
       "Name: education, dtype: int64"
      ]
     },
     "execution_count": 16,
     "metadata": {},
     "output_type": "execute_result"
    }
   ],
   "source": [
    "#Verificando coluna 'education':\n",
    "df['education'].value_counts()\n",
    "#Coluna 'education' tem valores em letra minúscula e letra maiúscula, além de ter um número que não corresponde a nada."
   ]
  },
  {
   "cell_type": "code",
   "execution_count": 17,
   "id": "fa71599c-e291-45e9-975a-4496f84d968a",
   "metadata": {},
   "outputs": [
    {
     "data": {
      "text/html": [
       "<div>\n",
       "<style scoped>\n",
       "    .dataframe tbody tr th:only-of-type {\n",
       "        vertical-align: middle;\n",
       "    }\n",
       "\n",
       "    .dataframe tbody tr th {\n",
       "        vertical-align: top;\n",
       "    }\n",
       "\n",
       "    .dataframe thead th {\n",
       "        text-align: right;\n",
       "    }\n",
       "</style>\n",
       "<table border=\"1\" class=\"dataframe\">\n",
       "  <thead>\n",
       "    <tr style=\"text-align: right;\">\n",
       "      <th></th>\n",
       "      <th>children</th>\n",
       "      <th>days_employed</th>\n",
       "      <th>dob_years</th>\n",
       "      <th>education</th>\n",
       "      <th>education_id</th>\n",
       "      <th>family_status</th>\n",
       "      <th>family_status_id</th>\n",
       "      <th>gender</th>\n",
       "      <th>income_type</th>\n",
       "      <th>debt</th>\n",
       "      <th>total_income</th>\n",
       "      <th>purpose</th>\n",
       "    </tr>\n",
       "  </thead>\n",
       "  <tbody>\n",
       "    <tr>\n",
       "      <th>99</th>\n",
       "      <td>43.052776</td>\n",
       "      <td>43.052776</td>\n",
       "      <td>43.052776</td>\n",
       "      <td>43.052776</td>\n",
       "      <td>43.052776</td>\n",
       "      <td>43.052776</td>\n",
       "      <td>43.052776</td>\n",
       "      <td>43.052776</td>\n",
       "      <td>43.052776</td>\n",
       "      <td>43.052776</td>\n",
       "      <td>43.052776</td>\n",
       "      <td>43.052776</td>\n",
       "    </tr>\n",
       "    <tr>\n",
       "      <th>149</th>\n",
       "      <td>43.052776</td>\n",
       "      <td>43.052776</td>\n",
       "      <td>43.052776</td>\n",
       "      <td>43.052776</td>\n",
       "      <td>43.052776</td>\n",
       "      <td>43.052776</td>\n",
       "      <td>43.052776</td>\n",
       "      <td>43.052776</td>\n",
       "      <td>43.052776</td>\n",
       "      <td>43.052776</td>\n",
       "      <td>43.052776</td>\n",
       "      <td>43.052776</td>\n",
       "    </tr>\n",
       "    <tr>\n",
       "      <th>270</th>\n",
       "      <td>43.052776</td>\n",
       "      <td>43.052776</td>\n",
       "      <td>43.052776</td>\n",
       "      <td>43.052776</td>\n",
       "      <td>43.052776</td>\n",
       "      <td>43.052776</td>\n",
       "      <td>43.052776</td>\n",
       "      <td>43.052776</td>\n",
       "      <td>43.052776</td>\n",
       "      <td>43.052776</td>\n",
       "      <td>43.052776</td>\n",
       "      <td>43.052776</td>\n",
       "    </tr>\n",
       "    <tr>\n",
       "      <th>291</th>\n",
       "      <td>43.052776</td>\n",
       "      <td>43.052776</td>\n",
       "      <td>43.052776</td>\n",
       "      <td>43.052776</td>\n",
       "      <td>43.052776</td>\n",
       "      <td>43.052776</td>\n",
       "      <td>43.052776</td>\n",
       "      <td>43.052776</td>\n",
       "      <td>43.052776</td>\n",
       "      <td>43.052776</td>\n",
       "      <td>43.052776</td>\n",
       "      <td>43.052776</td>\n",
       "    </tr>\n",
       "    <tr>\n",
       "      <th>578</th>\n",
       "      <td>43.052776</td>\n",
       "      <td>43.052776</td>\n",
       "      <td>43.052776</td>\n",
       "      <td>43.052776</td>\n",
       "      <td>43.052776</td>\n",
       "      <td>43.052776</td>\n",
       "      <td>43.052776</td>\n",
       "      <td>43.052776</td>\n",
       "      <td>43.052776</td>\n",
       "      <td>43.052776</td>\n",
       "      <td>43.052776</td>\n",
       "      <td>43.052776</td>\n",
       "    </tr>\n",
       "    <tr>\n",
       "      <th>...</th>\n",
       "      <td>...</td>\n",
       "      <td>...</td>\n",
       "      <td>...</td>\n",
       "      <td>...</td>\n",
       "      <td>...</td>\n",
       "      <td>...</td>\n",
       "      <td>...</td>\n",
       "      <td>...</td>\n",
       "      <td>...</td>\n",
       "      <td>...</td>\n",
       "      <td>...</td>\n",
       "      <td>...</td>\n",
       "    </tr>\n",
       "    <tr>\n",
       "      <th>21313</th>\n",
       "      <td>43.052776</td>\n",
       "      <td>43.052776</td>\n",
       "      <td>43.052776</td>\n",
       "      <td>43.052776</td>\n",
       "      <td>43.052776</td>\n",
       "      <td>43.052776</td>\n",
       "      <td>43.052776</td>\n",
       "      <td>43.052776</td>\n",
       "      <td>43.052776</td>\n",
       "      <td>43.052776</td>\n",
       "      <td>43.052776</td>\n",
       "      <td>43.052776</td>\n",
       "    </tr>\n",
       "    <tr>\n",
       "      <th>21325</th>\n",
       "      <td>43.052776</td>\n",
       "      <td>43.052776</td>\n",
       "      <td>43.052776</td>\n",
       "      <td>43.052776</td>\n",
       "      <td>43.052776</td>\n",
       "      <td>43.052776</td>\n",
       "      <td>43.052776</td>\n",
       "      <td>43.052776</td>\n",
       "      <td>43.052776</td>\n",
       "      <td>43.052776</td>\n",
       "      <td>43.052776</td>\n",
       "      <td>43.052776</td>\n",
       "    </tr>\n",
       "    <tr>\n",
       "      <th>21390</th>\n",
       "      <td>43.052776</td>\n",
       "      <td>43.052776</td>\n",
       "      <td>43.052776</td>\n",
       "      <td>43.052776</td>\n",
       "      <td>43.052776</td>\n",
       "      <td>43.052776</td>\n",
       "      <td>43.052776</td>\n",
       "      <td>43.052776</td>\n",
       "      <td>43.052776</td>\n",
       "      <td>43.052776</td>\n",
       "      <td>43.052776</td>\n",
       "      <td>43.052776</td>\n",
       "    </tr>\n",
       "    <tr>\n",
       "      <th>21404</th>\n",
       "      <td>43.052776</td>\n",
       "      <td>43.052776</td>\n",
       "      <td>43.052776</td>\n",
       "      <td>43.052776</td>\n",
       "      <td>43.052776</td>\n",
       "      <td>43.052776</td>\n",
       "      <td>43.052776</td>\n",
       "      <td>43.052776</td>\n",
       "      <td>43.052776</td>\n",
       "      <td>43.052776</td>\n",
       "      <td>43.052776</td>\n",
       "      <td>43.052776</td>\n",
       "    </tr>\n",
       "    <tr>\n",
       "      <th>21491</th>\n",
       "      <td>43.052776</td>\n",
       "      <td>43.052776</td>\n",
       "      <td>43.052776</td>\n",
       "      <td>43.052776</td>\n",
       "      <td>43.052776</td>\n",
       "      <td>43.052776</td>\n",
       "      <td>43.052776</td>\n",
       "      <td>43.052776</td>\n",
       "      <td>43.052776</td>\n",
       "      <td>43.052776</td>\n",
       "      <td>43.052776</td>\n",
       "      <td>43.052776</td>\n",
       "    </tr>\n",
       "  </tbody>\n",
       "</table>\n",
       "<p>223 rows × 12 columns</p>\n",
       "</div>"
      ],
      "text/plain": [
       "        children  days_employed  dob_years  education  education_id  \\\n",
       "99     43.052776      43.052776  43.052776  43.052776     43.052776   \n",
       "149    43.052776      43.052776  43.052776  43.052776     43.052776   \n",
       "270    43.052776      43.052776  43.052776  43.052776     43.052776   \n",
       "291    43.052776      43.052776  43.052776  43.052776     43.052776   \n",
       "578    43.052776      43.052776  43.052776  43.052776     43.052776   \n",
       "...          ...            ...        ...        ...           ...   \n",
       "21313  43.052776      43.052776  43.052776  43.052776     43.052776   \n",
       "21325  43.052776      43.052776  43.052776  43.052776     43.052776   \n",
       "21390  43.052776      43.052776  43.052776  43.052776     43.052776   \n",
       "21404  43.052776      43.052776  43.052776  43.052776     43.052776   \n",
       "21491  43.052776      43.052776  43.052776  43.052776     43.052776   \n",
       "\n",
       "      family_status  family_status_id     gender income_type       debt  \\\n",
       "99        43.052776         43.052776  43.052776   43.052776  43.052776   \n",
       "149       43.052776         43.052776  43.052776   43.052776  43.052776   \n",
       "270       43.052776         43.052776  43.052776   43.052776  43.052776   \n",
       "291       43.052776         43.052776  43.052776   43.052776  43.052776   \n",
       "578       43.052776         43.052776  43.052776   43.052776  43.052776   \n",
       "...             ...               ...        ...         ...        ...   \n",
       "21313     43.052776         43.052776  43.052776   43.052776  43.052776   \n",
       "21325     43.052776         43.052776  43.052776   43.052776  43.052776   \n",
       "21390     43.052776         43.052776  43.052776   43.052776  43.052776   \n",
       "21404     43.052776         43.052776  43.052776   43.052776  43.052776   \n",
       "21491     43.052776         43.052776  43.052776   43.052776  43.052776   \n",
       "\n",
       "       total_income    purpose  \n",
       "99        43.052776  43.052776  \n",
       "149       43.052776  43.052776  \n",
       "270       43.052776  43.052776  \n",
       "291       43.052776  43.052776  \n",
       "578       43.052776  43.052776  \n",
       "...             ...        ...  \n",
       "21313     43.052776  43.052776  \n",
       "21325     43.052776  43.052776  \n",
       "21390     43.052776  43.052776  \n",
       "21404     43.052776  43.052776  \n",
       "21491     43.052776  43.052776  \n",
       "\n",
       "[223 rows x 12 columns]"
      ]
     },
     "execution_count": 17,
     "metadata": {},
     "output_type": "execute_result"
    }
   ],
   "source": [
    "#Olhando mais de perto estas linhas\n",
    "df[df['education'] == 43.052775842044134]\n",
    "#Podemos excluir estas linhas"
   ]
  },
  {
   "cell_type": "code",
   "execution_count": 18,
   "id": "dd683e36-4e1d-4970-aeb2-7fc713669b2e",
   "metadata": {},
   "outputs": [],
   "source": [
    "#Excluindo do dataframe linhas da coluna 'education' com número 43.2004181184669.\n",
    "df = df[df['education'] != 43.052775842044134]"
   ]
  },
  {
   "cell_type": "code",
   "execution_count": 19,
   "id": "2c33c6df-a514-47d5-ad54-c23e7fc786e4",
   "metadata": {},
   "outputs": [
    {
     "data": {
      "text/html": [
       "<div>\n",
       "<style scoped>\n",
       "    .dataframe tbody tr th:only-of-type {\n",
       "        vertical-align: middle;\n",
       "    }\n",
       "\n",
       "    .dataframe tbody tr th {\n",
       "        vertical-align: top;\n",
       "    }\n",
       "\n",
       "    .dataframe thead th {\n",
       "        text-align: right;\n",
       "    }\n",
       "</style>\n",
       "<table border=\"1\" class=\"dataframe\">\n",
       "  <thead>\n",
       "    <tr style=\"text-align: right;\">\n",
       "      <th></th>\n",
       "      <th>children</th>\n",
       "      <th>days_employed</th>\n",
       "      <th>dob_years</th>\n",
       "      <th>education</th>\n",
       "      <th>education_id</th>\n",
       "      <th>family_status</th>\n",
       "      <th>family_status_id</th>\n",
       "      <th>gender</th>\n",
       "      <th>income_type</th>\n",
       "      <th>debt</th>\n",
       "      <th>total_income</th>\n",
       "      <th>purpose</th>\n",
       "    </tr>\n",
       "  </thead>\n",
       "  <tbody>\n",
       "  </tbody>\n",
       "</table>\n",
       "</div>"
      ],
      "text/plain": [
       "Empty DataFrame\n",
       "Columns: [children, days_employed, dob_years, education, education_id, family_status, family_status_id, gender, income_type, debt, total_income, purpose]\n",
       "Index: []"
      ]
     },
     "execution_count": 19,
     "metadata": {},
     "output_type": "execute_result"
    }
   ],
   "source": [
    "#Verificando se linhas foram excluídas\n",
    "df[df['education'] ==43.052775842044134]"
   ]
  },
  {
   "cell_type": "code",
   "execution_count": 20,
   "id": "c892a0a1-c0a8-4f88-a32f-0a975557c545",
   "metadata": {},
   "outputs": [],
   "source": [
    "#Transformando todos valores da coluna 'education' em valores minúsculos\n",
    "df['education'] = df['education'].str.lower()"
   ]
  },
  {
   "cell_type": "code",
   "execution_count": 21,
   "id": "cd0ca31a-5cea-474b-a0ad-bf5c4e67fcce",
   "metadata": {},
   "outputs": [
    {
     "data": {
      "text/plain": [
       "secondary education    15073\n",
       "bachelor's degree       5202\n",
       "some college             739\n",
       "primary education        282\n",
       "graduate degree            6\n",
       "Name: education, dtype: int64"
      ]
     },
     "execution_count": 21,
     "metadata": {},
     "output_type": "execute_result"
    }
   ],
   "source": [
    "#Verificando valores da coluna 'education'\n",
    "df['education'].value_counts()"
   ]
  },
  {
   "cell_type": "code",
   "execution_count": 22,
   "id": "3b8602c2-ab80-4e80-b2c3-0008e6a3ac2e",
   "metadata": {},
   "outputs": [
    {
     "data": {
      "text/plain": [
       "71"
      ]
     },
     "execution_count": 22,
     "metadata": {},
     "output_type": "execute_result"
    }
   ],
   "source": [
    "#Calculando valores duplicados\n",
    "df.duplicated().sum()"
   ]
  },
  {
   "cell_type": "markdown",
   "id": "cf2389fb-b972-462d-8cd0-93c8ef0634a2",
   "metadata": {},
   "source": [
    "Possíveis motivos dos valores duplicados:\n",
    "1) O cliente pediu mais de um empréstimo\n",
    "2) Perfis de clientes diferentes com os mesmos dados para todas colunas\n",
    "3) Dados com letras minúsculas e maiúsculas"
   ]
  },
  {
   "cell_type": "markdown",
   "id": "10fb4e53-d158-4cb8-a705-d90e9a8a5933",
   "metadata": {},
   "source": [
    "Não temos um ID de cliente que identifique exclusivamente os clientes. É possível que duas pessoas tenham os mesmos valores exatos para as demais colunas.\n",
    "Por essa razão, não vou excluir duplicatas"
   ]
  },
  {
   "cell_type": "markdown",
   "id": "889ba9a8-e729-46ff-ac56-c9912585c7a4",
   "metadata": {},
   "source": [
    "Possíveis motivos dos valores ausentes:\n",
    "1) A pessoa está atualmente desempregada\n",
    "2) A pessoa mudou de emprego e o sistema do banco não está atualizado\n",
    "3) Erro de quem inseriu as informações no banco de dados"
   ]
  },
  {
   "cell_type": "code",
   "execution_count": 23,
   "id": "348d9503-c709-4c04-83c4-27f5c7e88002",
   "metadata": {},
   "outputs": [
    {
     "data": {
      "text/plain": [
       "children               0\n",
       "days_employed       2152\n",
       "dob_years              0\n",
       "education              0\n",
       "education_id           0\n",
       "family_status          0\n",
       "family_status_id       0\n",
       "gender                 0\n",
       "income_type            0\n",
       "debt                   0\n",
       "total_income        2152\n",
       "purpose                0\n",
       "dtype: int64"
      ]
     },
     "execution_count": 23,
     "metadata": {},
     "output_type": "execute_result"
    }
   ],
   "source": [
    "#Calculando valores ausentes\n",
    "#Percebe-se valores ausentes nas duas colunas 'days_employed' e 'total_income'\n",
    "df.isna().sum()"
   ]
  },
  {
   "cell_type": "code",
   "execution_count": 24,
   "id": "b5e68967-3eae-406a-af44-0546d3c0cefc",
   "metadata": {},
   "outputs": [
    {
     "data": {
      "text/plain": [
       "True"
      ]
     },
     "execution_count": 24,
     "metadata": {},
     "output_type": "execute_result"
    }
   ],
   "source": [
    "#Verificando se as duas colunas estão relacionadas, de acordo com os valores ausentes.\n",
    "filtered_df_days_employed = df[df['days_employed'].isna()]\n",
    "filtered_df_total_income = df[df['total_income'].isna()]\n",
    "filtered_df_days_employed_list = filtered_df_days_employed.index.to_list()\n",
    "filtered_df_total_income_list = filtered_df_total_income.index.to_list()\n",
    "#Verificando se são iguais\n",
    "filtered_df_total_income_list == filtered_df_days_employed_list\n",
    "#São iguais"
   ]
  },
  {
   "cell_type": "code",
   "execution_count": 25,
   "id": "cdd04402-8a61-447b-aabe-ca30ecdc0a1a",
   "metadata": {},
   "outputs": [],
   "source": [
    "#Como são valores quantitativos, vou utilizar a média e a mediana para preencher os valores ausentes\n",
    "#Vou utilizar a mediana para preencher os valores ausentes da coluna 'days_employed', pois são valores atípicos\n",
    "df_days_employed_median = df['days_employed'].median()\n",
    "df['days_employed'] = df['days_employed'].fillna(value = df_days_employed_median)"
   ]
  },
  {
   "cell_type": "code",
   "execution_count": 26,
   "id": "919b4856-7346-488f-b6e8-ad4a358160d5",
   "metadata": {},
   "outputs": [],
   "source": [
    "#Vou utilizar a média para preencher os valores em total_income, pois não são valores atípicos\n",
    "df_total_income_mean = df['total_income'].mean()\n",
    "df['total_income'] = df['total_income'].fillna(value = df_total_income_mean)"
   ]
  },
  {
   "cell_type": "code",
   "execution_count": 27,
   "id": "84b22f39-23fe-448c-ad08-b81f16e48eb5",
   "metadata": {},
   "outputs": [
    {
     "data": {
      "text/plain": [
       "children            0\n",
       "days_employed       0\n",
       "dob_years           0\n",
       "education           0\n",
       "education_id        0\n",
       "family_status       0\n",
       "family_status_id    0\n",
       "gender              0\n",
       "income_type         0\n",
       "debt                0\n",
       "total_income        0\n",
       "purpose             0\n",
       "dtype: int64"
      ]
     },
     "execution_count": 27,
     "metadata": {},
     "output_type": "execute_result"
    }
   ],
   "source": [
    "#Verificando se valores ausentes foram preenchidos\n",
    "df.isna().sum()"
   ]
  },
  {
   "cell_type": "code",
   "execution_count": 28,
   "id": "d82dd8e0-c37e-4b2e-94ea-9e23fc0a32f1",
   "metadata": {},
   "outputs": [
    {
     "name": "stdout",
     "output_type": "stream",
     "text": [
      "<class 'pandas.core.frame.DataFrame'>\n",
      "Int64Index: 21302 entries, 0 to 21524\n",
      "Data columns (total 12 columns):\n",
      " #   Column            Non-Null Count  Dtype  \n",
      "---  ------            --------------  -----  \n",
      " 0   children          21302 non-null  float64\n",
      " 1   days_employed     21302 non-null  float64\n",
      " 2   dob_years         21302 non-null  float64\n",
      " 3   education         21302 non-null  object \n",
      " 4   education_id      21302 non-null  float64\n",
      " 5   family_status     21302 non-null  object \n",
      " 6   family_status_id  21302 non-null  float64\n",
      " 7   gender            21302 non-null  object \n",
      " 8   income_type       21302 non-null  object \n",
      " 9   debt              21302 non-null  float64\n",
      " 10  total_income      21302 non-null  float64\n",
      " 11  purpose           21302 non-null  object \n",
      "dtypes: float64(7), object(5)\n",
      "memory usage: 2.1+ MB\n"
     ]
    }
   ],
   "source": [
    "#Exibindo informações da tabela novamente\n",
    "df.info()"
   ]
  },
  {
   "cell_type": "code",
   "execution_count": 29,
   "id": "9d2fe00c-acb3-425e-ba82-30a5fc3bc54f",
   "metadata": {},
   "outputs": [],
   "source": [
    "#Transformando valores 'float' em 'int':\n",
    "df['days_employed'] = df['days_employed'].astype('int64')\n",
    "df['dob_years'] = df['dob_years'].astype('int64')\n",
    "df['education_id'] = df['education_id'].astype('int64')\n",
    "df['family_status_id'] = df['family_status_id'].astype('int64')\n",
    "df['debt'] = df['debt'].astype('int64')"
   ]
  },
  {
   "cell_type": "code",
   "execution_count": 30,
   "id": "0052173a-8c38-4216-9447-0f3446d5b4ee",
   "metadata": {},
   "outputs": [
    {
     "name": "stdout",
     "output_type": "stream",
     "text": [
      "<class 'pandas.core.frame.DataFrame'>\n",
      "Int64Index: 21302 entries, 0 to 21524\n",
      "Data columns (total 12 columns):\n",
      " #   Column            Non-Null Count  Dtype  \n",
      "---  ------            --------------  -----  \n",
      " 0   children          21302 non-null  float64\n",
      " 1   days_employed     21302 non-null  int64  \n",
      " 2   dob_years         21302 non-null  int64  \n",
      " 3   education         21302 non-null  object \n",
      " 4   education_id      21302 non-null  int64  \n",
      " 5   family_status     21302 non-null  object \n",
      " 6   family_status_id  21302 non-null  int64  \n",
      " 7   gender            21302 non-null  object \n",
      " 8   income_type       21302 non-null  object \n",
      " 9   debt              21302 non-null  int64  \n",
      " 10  total_income      21302 non-null  float64\n",
      " 11  purpose           21302 non-null  object \n",
      "dtypes: float64(2), int64(5), object(5)\n",
      "memory usage: 2.1+ MB\n"
     ]
    }
   ],
   "source": [
    "df.info()"
   ]
  },
  {
   "cell_type": "code",
   "execution_count": 31,
   "id": "2eb7f29a-5c04-4a4f-8ee9-6b6ac060cfa2",
   "metadata": {},
   "outputs": [],
   "source": [
    "#Criando função para categorizar valores de acordo com o status familiar e a quantidade de filhos:\n",
    "def family_category(row):\n",
    "    if row['children'] == 0 and row['family_status'] in ['married','civil partnership']:\n",
    "        return 'Com união, sem filhos'\n",
    "    if row['children'] == 0 and row['family_status'] in ['unmarried','divorced','widow / widower']:\n",
    "        return 'Sem união, sem filhos'\n",
    "    if row['children'] == 1 and row['family_status']in ['married','civil partnership']:\n",
    "        return 'Com união, com 1 filho'\n",
    "    if row['children'] == 1 and row['family_status'] in ['unmarried','divorced','widow / widower']:\n",
    "        return 'Sem união, com 1 filho'\n",
    "    if row['children'] in [2,3,4,5] and row['family_status'] in ['married','civil partnership']:\n",
    "        return 'Com união, com 2-5 filhos'\n",
    "    if row['children'] in [2,3,4,5] and row['family_status'] in ['unmarried','divorced','widow / widower']:\n",
    "        return 'Sem união, com 2-5 filhos'\n",
    "#Aplicando função e criando nova coluna 'credit_potential':\n",
    "df['family_category'] = df.apply(family_category, axis = 1)\n",
    "    "
   ]
  },
  {
   "cell_type": "code",
   "execution_count": 32,
   "id": "68731a4e-4966-47bf-8a3a-47f8045e078c",
   "metadata": {},
   "outputs": [
    {
     "data": {
      "text/plain": [
       "family_category\n",
       "Com união, sem filhos        0.072590\n",
       "Sem união, sem filhos        0.081870\n",
       "Com união, com 1 filho       0.091253\n",
       "Com união, com 2-5 filhos    0.091524\n",
       "Sem união, com 1 filho       0.094611\n",
       "Sem união, com 2-5 filhos    0.108911\n",
       "Name: debt, dtype: float64"
      ]
     },
     "execution_count": 32,
     "metadata": {},
     "output_type": "execute_result"
    }
   ],
   "source": [
    "#Utilizando groupby para analisar a média da coluna 'debt':\n",
    "df.groupby('family_category')['debt'].mean().sort_values(ascending = True)"
   ]
  },
  {
   "cell_type": "markdown",
   "id": "3ca87c0c-8b8a-44a2-9ebc-d01607e760c6",
   "metadata": {
    "tags": []
   },
   "source": [
    "Existe alguma relação entre ter filhos e pagar um empréstimo em dia? Parece que quanto menos filhos, menor a chance de inadimplência.\n",
    "Existe alguma relação entre o estado civil e o pagamento de um empréstimo no prazo estipulado? Parece que quando a pessoa é sepadarada, maior a chance de inadimplência.\n"
   ]
  },
  {
   "cell_type": "code",
   "execution_count": 33,
   "id": "3b7efb05-4848-4437-bc57-38fc362ba8bd",
   "metadata": {},
   "outputs": [],
   "source": [
    "#Criando função para categorizar clientes em níveis de potencial de crédito\n",
    "def credit_potential(row):\n",
    "    if row['family_category'] == 'Com união, sem filhos':\n",
    "        return 'Alto'\n",
    "    if row['family_category'] == 'Sem união, sem filhos':\n",
    "        return 'Alto'\n",
    "    if row ['family_category'] == 'Com união, com 1 filho':\n",
    "        return 'Médio'\n",
    "    if row['family_category'] == 'Com união, com 2-5 filhos':\n",
    "        return 'Médio'\n",
    "    if row['family_category'] =='Sem união, com 1 filho':\n",
    "        return 'Baixo'\n",
    "    if row['family_category'] == 'Sem união, com 2-5 filhos':\n",
    "        return 'Baixo'\n",
    "df['credit_potential'] = df.apply(credit_potential, axis = 1)"
   ]
  },
  {
   "cell_type": "code",
   "execution_count": 35,
   "id": "ed857efa-c12c-4e09-8440-617408dd58ed",
   "metadata": {},
   "outputs": [
    {
     "name": "stderr",
     "output_type": "stream",
     "text": [
      "C:\\Users\\Graciette\\AppData\\Local\\Temp\\ipykernel_992\\2805012653.py:2: FutureWarning: Indexing with multiple keys (implicitly converted to a tuple of keys) will be deprecated, use a list instead.\n",
      "  df.groupby('family_category')['debt','total_income'].mean().sort_values(by='total_income',ascending=True)\n"
     ]
    },
    {
     "data": {
      "text/html": [
       "<div>\n",
       "<style scoped>\n",
       "    .dataframe tbody tr th:only-of-type {\n",
       "        vertical-align: middle;\n",
       "    }\n",
       "\n",
       "    .dataframe tbody tr th {\n",
       "        vertical-align: top;\n",
       "    }\n",
       "\n",
       "    .dataframe thead th {\n",
       "        text-align: right;\n",
       "    }\n",
       "</style>\n",
       "<table border=\"1\" class=\"dataframe\">\n",
       "  <thead>\n",
       "    <tr style=\"text-align: right;\">\n",
       "      <th></th>\n",
       "      <th>debt</th>\n",
       "      <th>total_income</th>\n",
       "    </tr>\n",
       "    <tr>\n",
       "      <th>family_category</th>\n",
       "      <th></th>\n",
       "      <th></th>\n",
       "    </tr>\n",
       "  </thead>\n",
       "  <tbody>\n",
       "    <tr>\n",
       "      <th>Sem união, sem filhos</th>\n",
       "      <td>0.081870</td>\n",
       "      <td>26178.413278</td>\n",
       "    </tr>\n",
       "    <tr>\n",
       "      <th>Sem união, com 2-5 filhos</th>\n",
       "      <td>0.108911</td>\n",
       "      <td>26251.229591</td>\n",
       "    </tr>\n",
       "    <tr>\n",
       "      <th>Com união, sem filhos</th>\n",
       "      <td>0.072590</td>\n",
       "      <td>26577.248258</td>\n",
       "    </tr>\n",
       "    <tr>\n",
       "      <th>Sem união, com 1 filho</th>\n",
       "      <td>0.094611</td>\n",
       "      <td>27046.945276</td>\n",
       "    </tr>\n",
       "    <tr>\n",
       "      <th>Com união, com 1 filho</th>\n",
       "      <td>0.091253</td>\n",
       "      <td>27408.568327</td>\n",
       "    </tr>\n",
       "    <tr>\n",
       "      <th>Com união, com 2-5 filhos</th>\n",
       "      <td>0.091524</td>\n",
       "      <td>27769.279754</td>\n",
       "    </tr>\n",
       "  </tbody>\n",
       "</table>\n",
       "</div>"
      ],
      "text/plain": [
       "                               debt  total_income\n",
       "family_category                                  \n",
       "Sem união, sem filhos      0.081870  26178.413278\n",
       "Sem união, com 2-5 filhos  0.108911  26251.229591\n",
       "Com união, sem filhos      0.072590  26577.248258\n",
       "Sem união, com 1 filho     0.094611  27046.945276\n",
       "Com união, com 1 filho     0.091253  27408.568327\n",
       "Com união, com 2-5 filhos  0.091524  27769.279754"
      ]
     },
     "execution_count": 35,
     "metadata": {},
     "output_type": "execute_result"
    }
   ],
   "source": [
    "#Utilizando o groupby para ajudar a analisar\n",
    "df.groupby('family_category')['debt','total_income'].mean().sort_values(by='total_income',ascending=True)"
   ]
  },
  {
   "cell_type": "markdown",
   "id": "73700811-cf93-4b94-853b-3435979d0ee9",
   "metadata": {},
   "source": [
    "Existe uma relação entre o nível de renda e o pagamento de um empréstimo no prazo? Parece que quanto mais 'income', maior a inadimplência, mas não é uma relação direta.\n"
   ]
  },
  {
   "cell_type": "code",
   "execution_count": 36,
   "id": "7fda5e69-6e73-4dfa-b11e-4b60ee67cb47",
   "metadata": {},
   "outputs": [
    {
     "data": {
      "text/plain": [
       "purpose\n",
       "purchase of my own house                    0.055016\n",
       "housing renovation                          0.057661\n",
       "property                                    0.065287\n",
       "construction of own property                0.065495\n",
       "buy residential real estate                 0.068333\n",
       "buy real estate                             0.069805\n",
       "buy commercial real estate                  0.069909\n",
       "purchase of the house for my family         0.070423\n",
       "housing                                     0.072327\n",
       "education                                   0.072893\n",
       "housing transactions                        0.073209\n",
       "purchase of the house                       0.074016\n",
       "buying a second-hand car                    0.074153\n",
       "to have a wedding                           0.074607\n",
       "building a real estate                      0.077544\n",
       "having a wedding                            0.079427\n",
       "wedding ceremony                            0.079646\n",
       "transactions with my real estate            0.079872\n",
       "buying property for renting out             0.080123\n",
       "transactions with commercial real estate    0.080745\n",
       "getting an education                        0.081818\n",
       "real estate transactions                    0.082090\n",
       "supplementary education                     0.083516\n",
       "car                                         0.084016\n",
       "building a property                         0.087097\n",
       "going to university                         0.087221\n",
       "university education                        0.090090\n",
       "car purchase                                0.091703\n",
       "buying my own car                           0.091816\n",
       "to buy a car                                0.092275\n",
       "cars                                        0.092827\n",
       "to become educated                          0.094891\n",
       "to own a car                                0.095339\n",
       "profile education                           0.102088\n",
       "second-hand car purchase                    0.105809\n",
       "getting higher education                    0.108747\n",
       "purchase of a car                           0.110132\n",
       "to get a supplementary education            0.115124\n",
       "Name: debt, dtype: float64"
      ]
     },
     "execution_count": 36,
     "metadata": {},
     "output_type": "execute_result"
    }
   ],
   "source": [
    "#Utilizando o groupby para ajudar a analisar\n",
    "df.groupby('purpose')['debt'].mean().sort_values(ascending=True)"
   ]
  },
  {
   "cell_type": "markdown",
   "id": "27c1e1ff-7e5f-4c26-adae-099c32f19008",
   "metadata": {},
   "source": [
    "Como as diferentes finalidades do empréstimo afetam o pagamento pontual do empréstimo? A maior parte dos empréstimos é utilizado para compra de um carro e investimento em educação."
   ]
  },
  {
   "cell_type": "markdown",
   "id": "0e60510e-14bf-439c-ab53-1fdd95e34625",
   "metadata": {},
   "source": [
    "Conclusão geral: Quando a pessoa é separada e tem mais filhos, maior a chance de inadimplência. A renda não tem tanto impacto na inadimplência. Mas sim a quantidade de filhos e o estado civil."
   ]
  },
  {
   "cell_type": "code",
   "execution_count": null,
   "id": "bbe5f2a8-a21b-46c1-8bf6-5cf7f9c885c2",
   "metadata": {},
   "outputs": [],
   "source": []
  }
 ],
 "metadata": {
  "kernelspec": {
   "display_name": "Python 3 (ipykernel)",
   "language": "python",
   "name": "python3"
  },
  "language_info": {
   "codemirror_mode": {
    "name": "ipython",
    "version": 3
   },
   "file_extension": ".py",
   "mimetype": "text/x-python",
   "name": "python",
   "nbconvert_exporter": "python",
   "pygments_lexer": "ipython3",
   "version": "3.9.13"
  }
 },
 "nbformat": 4,
 "nbformat_minor": 5
}
