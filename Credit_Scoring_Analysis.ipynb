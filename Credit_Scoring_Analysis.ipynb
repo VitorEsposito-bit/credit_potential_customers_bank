{
 "cells": [
  {
   "cell_type": "code",
   "execution_count": null,
   "id": "9ae2f4dc-df21-48e5-9970-8c312a1384c9",
   "metadata": {},
   "outputs": [],
   "source": [
    "#Importando a biblioteca Pandas\n",
    "import pandas as pd"
   ]
  },
  {
   "cell_type": "code",
   "execution_count": null,
   "id": "45b4f1e7-bf14-4041-98f9-9af2d10a66cc",
   "metadata": {},
   "outputs": [],
   "source": [
    "#Carregando o arquivo(planilha):\n",
    "try:\n",
    "    df = pd.read_csv('credit_scoring_eng.csv')\n",
    "except: \n",
    "    df= pd.read_csv('/datasets/credit_scoring_eng.csv')"
   ]
  },
  {
   "cell_type": "code",
   "execution_count": null,
   "id": "681d31d3-9f59-470d-a086-a9cfd79510cc",
   "metadata": {},
   "outputs": [],
   "source": [
    "#Explorando o arquivo:\n",
    "df.info()\n",
    "df.head(10)"
   ]
  },
  {
   "cell_type": "code",
   "execution_count": null,
   "id": "aca977b5-7c78-41e0-b8e7-d78337943a1f",
   "metadata": {},
   "outputs": [],
   "source": [
    "#Inspecionando colunas, começando pela coluna 'children':\n",
    "df['children'].value_counts()\n",
    "#Ninguém pode ter -1 filhos, vou substituir este valor por 0, pois não sabemos ao certo a quantidade correta de filhos."
   ]
  },
  {
   "cell_type": "code",
   "execution_count": null,
   "id": "f5a1f6ec-6315-41ce-84d9-009736e0f9e5",
   "metadata": {},
   "outputs": [],
   "source": [
    "#Substituindo valores -1 por 0 na coluna 'children'\n",
    "df[df['children'] == -1] = 0  "
   ]
  },
  {
   "cell_type": "code",
   "execution_count": null,
   "id": "40562cb8-dcc0-4f72-b007-8a5f7423a1dc",
   "metadata": {},
   "outputs": [],
   "source": [
    "#Verificando coluna 'children' novamente, está corrigido.\n",
    "df['children'].value_counts()"
   ]
  },
  {
   "cell_type": "code",
   "execution_count": null,
   "id": "3b03cb53-1527-40f9-b1a6-eb868e23b384",
   "metadata": {},
   "outputs": [],
   "source": [
    "#Inspecionando coluna 'days_employed':\n",
    "df['days_employed'].value_counts()\n",
    "#Existem valores negativos. Vou transformá-los em positivo, pois a pessoa que os inseriu pode ter inserido incorretamente."
   ]
  },
  {
   "cell_type": "code",
   "execution_count": null,
   "id": "c684cb92-d163-48c4-b059-13d5fe848192",
   "metadata": {},
   "outputs": [],
   "source": [
    "#Criando função para transformar números negativos em positivos:\n",
    "def numero_positivo(valor):\n",
    "    if valor <0:\n",
    "        valor = valor * -1\n",
    "    return valor\n",
    "#Utilizando função para transformar números negativos em positivos:\n",
    "df['days_employed'] = df['days_employed'].apply(numero_positivo)"
   ]
  },
  {
   "cell_type": "code",
   "execution_count": null,
   "id": "9d7e97f0-5414-454a-b9e5-1265c2c539cd",
   "metadata": {},
   "outputs": [],
   "source": [
    "#Verificando números da coluna 'days_employed'.\n",
    "df['days_employed'].value_counts()"
   ]
  },
  {
   "cell_type": "code",
   "execution_count": null,
   "id": "cdf34172-d133-48b8-bc89-d15343152a0c",
   "metadata": {},
   "outputs": [],
   "source": [
    "#Inspecionando coluna 'dob_years':\n",
    "df['dob_years'].value_counts().sort_index(ascending=True)\n",
    "#Ninguém que tem empréstimo no banco é menor do que 18 anos supostamente, e zero anos seria um bebê. Dado provavelmente incorreto.\n",
    "#Vou substituir pela média de idade."
   ]
  },
  {
   "cell_type": "code",
   "execution_count": null,
   "id": "f1a995a4-b53e-4cfc-8ac1-948b1337a3ee",
   "metadata": {},
   "outputs": [],
   "source": [
    "#Descobrindo a média de idade:\n",
    "dob_years_mean = df['dob_years'].mean()"
   ]
  },
  {
   "cell_type": "code",
   "execution_count": null,
   "id": "2aea2f09-c58a-4c9e-9f7c-a09d6c1b6b33",
   "metadata": {},
   "outputs": [],
   "source": [
    "#Transformando valores iguais a zero em valores da média da coluna 'dob_years':\n",
    "df[df['dob_years'] == 0] = dob_years_mean"
   ]
  },
  {
   "cell_type": "code",
   "execution_count": null,
   "id": "be90c792-cfae-4197-8157-ae7afc1129a4",
   "metadata": {},
   "outputs": [],
   "source": [
    "#Verificando se foi corrigido:\n",
    "df['dob_years'].value_counts()\n",
    "#Números ficaram em 'float', como se tivessem vírgula, vou alterar depois."
   ]
  },
  {
   "cell_type": "code",
   "execution_count": null,
   "id": "fd95a92e-2394-4205-88f5-9d402f2e7e6b",
   "metadata": {},
   "outputs": [],
   "source": [
    "#Verificando coluna 'education':\n",
    "df['education'].value_counts()\n",
    "#Coluna 'education' tem valores em letra minúscula e letra maiúscula, além de ter um número que não corresponde a nada."
   ]
  },
  {
   "cell_type": "code",
   "execution_count": null,
   "id": "fa71599c-e291-45e9-975a-4496f84d968a",
   "metadata": {},
   "outputs": [],
   "source": [
    "#Olhando mais de perto estas linhas\n",
    "df[df['education'] == 43.2004181184669]\n",
    "#Podemos excluir estas linhas"
   ]
  },
  {
   "cell_type": "code",
   "execution_count": null,
   "id": "dd683e36-4e1d-4970-aeb2-7fc713669b2e",
   "metadata": {},
   "outputs": [],
   "source": [
    "#Excluindo do dataframe linhas da coluna 'education' com número 43.2004181184669.\n",
    "df = df[df['education'] != 43.2004181184669]"
   ]
  },
  {
   "cell_type": "code",
   "execution_count": null,
   "id": "c892a0a1-c0a8-4f88-a32f-0a975557c545",
   "metadata": {},
   "outputs": [],
   "source": [
    "#Transformando todos valores da coluna 'education' em valores minúsculos\n",
    "df['education'] = df['education'].str.lower()"
   ]
  },
  {
   "cell_type": "code",
   "execution_count": null,
   "id": "cd0ca31a-5cea-474b-a0ad-bf5c4e67fcce",
   "metadata": {},
   "outputs": [],
   "source": [
    "#Verificando valores da coluna 'education'\n",
    "df['education'].value_counts()"
   ]
  },
  {
   "cell_type": "code",
   "execution_count": null,
   "id": "3b8602c2-ab80-4e80-b2c3-0008e6a3ac2e",
   "metadata": {},
   "outputs": [],
   "source": [
    "#Calculando valores duplicados\n",
    "df.duplicated().sum()"
   ]
  },
  {
   "cell_type": "markdown",
   "id": "cf2389fb-b972-462d-8cd0-93c8ef0634a2",
   "metadata": {},
   "source": [
    "Possíveis motivos dos valores duplicados:\n",
    "1) O cliente pediu mais de um empréstimo\n",
    "2) Perfis de clientes diferentes com os mesmos dados para todas colunas\n",
    "3) Dados com letras minúsculas e maiúsculas"
   ]
  },
  {
   "cell_type": "markdown",
   "id": "10fb4e53-d158-4cb8-a705-d90e9a8a5933",
   "metadata": {},
   "source": [
    "Não temos um ID de cliente que identifique exclusivamente os clientes. É possível que duas pessoas tenham os mesmos valores exatos para as demais colunas.\n",
    "Por essa razão, não vou excluir duplicatas"
   ]
  },
  {
   "cell_type": "markdown",
   "id": "889ba9a8-e729-46ff-ac56-c9912585c7a4",
   "metadata": {},
   "source": [
    "Possíveis motivos dos valores ausentes:\n",
    "1) A pessoa está atualmente desempregada\n",
    "2) A pessoa mudou de emprego e o sistema do banco não está atualizado\n",
    "3) Erro de quem inseriu as informações no banco de dados"
   ]
  },
  {
   "cell_type": "code",
   "execution_count": null,
   "id": "348d9503-c709-4c04-83c4-27f5c7e88002",
   "metadata": {},
   "outputs": [],
   "source": [
    "#Calculando valores ausentes\n",
    "#Percebe-se valores ausentes nas duas colunas 'days_employed' e 'total_income'\n",
    "df.isna().sum()"
   ]
  },
  {
   "cell_type": "code",
   "execution_count": null,
   "id": "b5e68967-3eae-406a-af44-0546d3c0cefc",
   "metadata": {},
   "outputs": [],
   "source": [
    "#Verificando se as duas colunas estão relacionadas, de acordo com os valores ausentes.\n",
    "filtered_df_days_employed = df[df['days_employed'].isna()]\n",
    "filtered_df_total_income = df[df['total_income'].isna()]\n",
    "filtered_df_days_employed_list = filtered_df_days_employed.index.to_list()\n",
    "filtered_df_total_income_list = filtered_df_total_income.index.to_list()\n",
    "#Verificando se são iguais\n",
    "filtered_df_total_income_list == filtered_df_days_employed_list\n",
    "#São iguais"
   ]
  },
  {
   "cell_type": "code",
   "execution_count": null,
   "id": "cdd04402-8a61-447b-aabe-ca30ecdc0a1a",
   "metadata": {},
   "outputs": [],
   "source": [
    "#Como são valores quantitativos, vou utilizar a média e a mediana para preencher os valores ausentes\n",
    "#Vou utilizar a mediana para preencher os valores ausentes da coluna 'days_employed', pois são valores atípicos\n",
    "df_days_employed_median = df['days_employed'].median()\n",
    "df['days_employed'] = df['days_employed'].fillna(value = df_days_employed_median)"
   ]
  },
  {
   "cell_type": "code",
   "execution_count": null,
   "id": "919b4856-7346-488f-b6e8-ad4a358160d5",
   "metadata": {},
   "outputs": [],
   "source": [
    "#Vou utilizar a média para preencher os valores em total_income, pois não são valores atípicos\n",
    "df_total_income_mean = df['total_income'].mean()\n",
    "df['total_income'] = df['total_income'].fillna(value = df_total_income_mean)"
   ]
  },
  {
   "cell_type": "code",
   "execution_count": null,
   "id": "84b22f39-23fe-448c-ad08-b81f16e48eb5",
   "metadata": {},
   "outputs": [],
   "source": [
    "#Verificando se valores ausentes foram preenchidos\n",
    "df.isna().sum()"
   ]
  },
  {
   "cell_type": "code",
   "execution_count": null,
   "id": "d82dd8e0-c37e-4b2e-94ea-9e23fc0a32f1",
   "metadata": {},
   "outputs": [],
   "source": [
    "#Exibindo informações da tabela novamente\n",
    "df.info()"
   ]
  },
  {
   "cell_type": "code",
   "execution_count": null,
   "id": "9d2fe00c-acb3-425e-ba82-30a5fc3bc54f",
   "metadata": {},
   "outputs": [],
   "source": [
    "#Transformando valores 'float' em 'int':\n",
    "df['days_employed'] = df['days_employed'].astype('int64')\n",
    "df['dob_years'] = df['dob_years'].astype('int64')\n",
    "df['education_id'] = df['education_id'].astype('int64')\n",
    "df['family_status_id'] = df['family_status_id'].astype('int64')\n",
    "df['debt'] = df['debt'].astype('int64')"
   ]
  },
  {
   "cell_type": "code",
   "execution_count": null,
   "id": "0052173a-8c38-4216-9447-0f3446d5b4ee",
   "metadata": {},
   "outputs": [],
   "source": [
    "df.info()"
   ]
  },
  {
   "cell_type": "code",
   "execution_count": null,
   "id": "2eb7f29a-5c04-4a4f-8ee9-6b6ac060cfa2",
   "metadata": {},
   "outputs": [],
   "source": [
    "#Criando função para categorizar valores de acordo com o status familiar e a quantidade de filhos:\n",
    "def potencial_credito(row):\n",
    "    if row['children'] == 0 and row['family_status'] in ['married','civil partnership']:\n",
    "        return 'Juntos sem filhos'\n",
    "    if row['children'] == 0 and row['family_status'] in ['unmarried','divorced','widow / widower']:\n",
    "        return 'Separado(a) sem filho'\n",
    "    if row['children'] == 1 and row['family_status']in ['married','civil partnership']:\n",
    "        return 'Juntos com 1 filho'\n",
    "    if row['children'] == 1 and row['family_status'] in ['unmarried','divorced','widow / widower']:\n",
    "        return 'Separado(a) com 1 filho'\n",
    "    if row['children'] in [2,3,4,5] and row['family_status'] in ['married','civil partnership']:\n",
    "        return 'Juntos com 2-5 filhos'\n",
    "    if row['children'] in [2,3,4,5] and row['family_status'] in ['unmarried','divorced','widow / widower']:\n",
    "        return 'Separado(a) com 2-5 filhos'\n",
    "    if row['children'] == 20 and row['family_status'] in ['married','civil partnership']:\n",
    "        return 'Juntos com 20 filhos'\n",
    "    if row['children'] == 20 and row['family_status'] in ['unmarried','divorced','widow / widower']:\n",
    "        return 'Separado(a) com 20 filhos'\n",
    "#Aplicando função e criando nova coluna 'credit_potential':\n",
    "df['credit_potential'] = df.apply(potencial_credito, axis = 1)\n",
    "    "
   ]
  },
  {
   "cell_type": "code",
   "execution_count": null,
   "id": "68731a4e-4966-47bf-8a3a-47f8045e078c",
   "metadata": {},
   "outputs": [],
   "source": [
    "#Criando tabela filtrada para respoder às perguntas:\n",
    "df_debt_one = df[df['debt'] == 1]"
   ]
  },
  {
   "cell_type": "code",
   "execution_count": null,
   "id": "b91cf7e0-e591-482e-83c4-3fc6df441707",
   "metadata": {},
   "outputs": [],
   "source": [
    "#Utilizando groupby para ajudar a analisar \n",
    "df_debt_one.groupby('credit_potential')['debt'].count().sort_values(ascending = True)"
   ]
  },
  {
   "cell_type": "markdown",
   "id": "3ca87c0c-8b8a-44a2-9ebc-d01607e760c6",
   "metadata": {},
   "source": [
    "Existe alguma relação entre ter filhos e pagar um empréstimo em dia? Parece que quanto menos filhos, menor a chance de inadimplência.\n",
    "Existe alguma relação entre o estado civil e o pagamento de um empréstimo no prazo estipulado? Não existe\n"
   ]
  },
  {
   "cell_type": "code",
   "execution_count": null,
   "id": "ed857efa-c12c-4e09-8440-617408dd58ed",
   "metadata": {},
   "outputs": [],
   "source": [
    "#Utilizando o groupby para ajudar a analisar\n",
    "df_debt_one.groupby('credit_potential')['debt','total_income'].sum().sort_values(by='total_income',ascending=True)"
   ]
  },
  {
   "cell_type": "markdown",
   "id": "73700811-cf93-4b94-853b-3435979d0ee9",
   "metadata": {},
   "source": [
    "Existe uma relação entre o nível de renda e o pagamento de um empréstimo no prazo? Parece que quanto mais 'income', maior a inadimplência."
   ]
  },
  {
   "cell_type": "code",
   "execution_count": null,
   "id": "7fda5e69-6e73-4dfa-b11e-4b60ee67cb47",
   "metadata": {},
   "outputs": [],
   "source": [
    "#Utilizando o groupby para ajudar a analisar\n",
    "df.groupby('purpose')['debt'].count().sort_values(ascending=True)"
   ]
  },
  {
   "cell_type": "markdown",
   "id": "27c1e1ff-7e5f-4c26-adae-099c32f19008",
   "metadata": {},
   "source": [
    "Como as diferentes finalidades do empréstimo afetam o pagamento pontual do empréstimo? A maior parte dos empréstimos é utilizado para cerimônias de casamento e compra da própria casa"
   ]
  },
  {
   "cell_type": "markdown",
   "id": "0e60510e-14bf-439c-ab53-1fdd95e34625",
   "metadata": {},
   "source": [
    "Conclusão geral: Casais com menos filhos tendem a pedir empréstimos para compras suas próprias casas e realizar seus casamentos, e não pagam os mesmos no prazo estipulado."
   ]
  },
  {
   "cell_type": "code",
   "execution_count": null,
   "id": "ac3e6030-db06-4599-9144-c81e55036435",
   "metadata": {},
   "outputs": [],
   "source": []
  }
 ],
 "metadata": {
  "kernelspec": {
   "display_name": "Python 3 (ipykernel)",
   "language": "python",
   "name": "python3"
  },
  "language_info": {
   "codemirror_mode": {
    "name": "ipython",
    "version": 3
   },
   "file_extension": ".py",
   "mimetype": "text/x-python",
   "name": "python",
   "nbconvert_exporter": "python",
   "pygments_lexer": "ipython3",
   "version": "3.9.13"
  }
 },
 "nbformat": 4,
 "nbformat_minor": 5
}
